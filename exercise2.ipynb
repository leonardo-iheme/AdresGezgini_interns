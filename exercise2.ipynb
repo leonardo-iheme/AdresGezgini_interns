{
 "cells": [
  {
   "cell_type": "markdown",
   "metadata": {},
   "source": [
    "# Second Exercise  \n",
    "  \n",
    "**-First, read excel documents from the given path and sheets with using pandas library**  \n",
    "**-Then clean them up from puntuation marks like commas, dots etc (, . ; : ? !)**  \n",
    "**-Third, split the sentences to the words**  \n",
    "**-After that, using get_syllables() function, we are spliting the words to its syllables**"
   ]
  },
  {
   "cell_type": "code",
   "execution_count": 1,
   "metadata": {},
   "outputs": [],
   "source": [
    "import pandas as pd\n",
    "from collections import Counter"
   ]
  },
  {
   "cell_type": "code",
   "execution_count": 2,
   "metadata": {},
   "outputs": [],
   "source": [
    "filePath = \"sentences.from.books.xlsx\"\n",
    "nutuk = pd.read_excel(filePath, sheet_name=\"Nutuk\")\n",
    "tutunamayanlar = pd.read_excel(filePath, sheet_name=\"Tutunamayanlar\")"
   ]
  },
  {
   "cell_type": "code",
   "execution_count": 3,
   "metadata": {},
   "outputs": [],
   "source": [
    "nutuk = nutuk.replace(to_replace=r'[,.?!;:]', value='', regex=True)\n",
    "tutunamayanlar = tutunamayanlar.replace(to_replace=r'[,.?!;:]', value='', regex=True)"
   ]
  },
  {
   "cell_type": "code",
   "execution_count": 4,
   "metadata": {},
   "outputs": [],
   "source": [
    "words = Counter() # a dictionary to store the words with their number of appearence\n",
    "\n",
    "for i in nutuk.cümleler.str.split():\n",
    "    words.update(i)\n",
    "    \n",
    "for i in tutunamayanlar.cümleler.str.split():\n",
    "    words.update(i)"
   ]
  },
  {
   "cell_type": "code",
   "execution_count": 5,
   "metadata": {},
   "outputs": [],
   "source": [
    "def get_syllables(word):\n",
    "    syllables = []\n",
    "\n",
    "    \"\"\"\n",
    "    Aşağıdaki satır gelen kelimenin ünlü harfler 1, ünsüzler 0 olacak\n",
    "    şekilde desenini çıkarır.\n",
    "    Örneğin: arabacı -> 1010101, türkiye -> 010010\n",
    "    \"\"\"\n",
    "    try: \n",
    "        int(word[0:word.index(\"\\'\")])\n",
    "        syllables.append(word[0:word.index(\"\\'\")])\n",
    "        word = word[word.index(\"\\'\"):]\n",
    "    except:pass\n",
    "    \n",
    "    word = word.replace(\"\\'\",\"\")\n",
    "    word = word.replace(\"-\", \"\")\n",
    "    bits = ''.join(['1' if l in 'aAeEıIiİîoOöÖuUüÜ' else '0' for l in word])\n",
    "\n",
    "    \"\"\"\n",
    "    Aşağıdaki seperators listesi, yakalanacak desenleri ve desen yakalandığında\n",
    "    kelimenin hangi pozisyondan kesileceğini tanımlıyor.\n",
    "    Türkçede kelime içinde iki ünlü arasındaki ünsüz, kendinden sonraki\n",
    "    ünlüyle hece kurar., yani 101 desenini yakaladığımızda kelimeyi\n",
    "    bulunduğumuz yerden 1 ileri pozisyondan kesmeliyiz. ('101', 1)\n",
    "    Kelime içinde yan yana gelen iki ünsüzden ilki kendinden önceki ünlüyle,\n",
    "    ikincisi kendinden sonraki ünlüyle hece kurar. Bu da demek oluyor ki\n",
    "    1001 desenini yakaladığımızda kelimeyi bulunduğumuz noktadan 2 ileriden\n",
    "    kesmeliyiz. ('1001', 2),\n",
    "    Kelime içinde yan yana gelen üç ünsüz harften ilk ikisi kendinden önceki\n",
    "    ünlüyle, üçüncüsü kendinden sonraki ünlüyle hece kurar. Yani 10001 desenini\n",
    "    gördüğümüzde kelimeyi bulunduğumuz yerden 3 ileri pozisyondan kesmemiz\n",
    "    gerek. ('10001', 3)\n",
    "    \"\"\"\n",
    "\n",
    "    seperators = (\n",
    "        ('101', 1),\n",
    "        ('1001', 2),\n",
    "        ('10001', 3)\n",
    "    )\n",
    "\n",
    "    index, cut_start_pos = 0, 0\n",
    "\n",
    "    # index değerini elimizdeki bitler üzerinde yürütmeye başlıyoruz.\n",
    "    while index < len(bits):\n",
    "\n",
    "        \"\"\"\n",
    "        Elimizdeki her ayırıcıyı (seperator), bits'in index'inci karakterinden\n",
    "        itibarent tek tek deneyerek yakalamaya çalışıyoruz.\n",
    "        \"\"\"\n",
    "        if bits[index:].startswith(\"0110\"):\n",
    "            index += 2\n",
    "            syllables.append(word[cut_start_pos:index])\n",
    "            cut_start_pos = index\n",
    "\n",
    "        for seperator_pattern, seperator_cut_pos in seperators:\n",
    "            \n",
    "            if bits[index:].startswith(seperator_pattern):\n",
    "\n",
    "                \"\"\"\n",
    "                Yakaladığımızda, en son cut_start posizyonundan, bulunduğumuz\n",
    "                pozisyonun serpator_cut_pos kadar ilerisine kadar bölümü alıp\n",
    "                syllables sepetine atıyoruz.\n",
    "                \"\"\"\n",
    "                syllables.append(word[cut_start_pos:index + seperator_cut_pos])\n",
    "\n",
    "                \"\"\"\n",
    "                Index'imiz seperator_cut_pos kadar ilerliyor, ve\n",
    "                cut_start_pos'u index'le aynı yapıyoruz.\n",
    "                \"\"\"\n",
    "\n",
    "                index += seperator_cut_pos\n",
    "                cut_start_pos = index\n",
    "                break\n",
    "\n",
    "        \"\"\"\n",
    "        Index ilerliyor, cut_start_pos'da değişiklik yok.\n",
    "        \"\"\"\n",
    "\n",
    "        index += 1\n",
    "\n",
    "    # Son kalan heceyi elle sepete atıyoruz.\n",
    "    syllables.append(word[cut_start_pos:])\n",
    "    return syllables"
   ]
  },
  {
   "cell_type": "code",
   "execution_count": 6,
   "metadata": {
    "scrolled": true
   },
   "outputs": [
    {
     "name": "stdout",
     "output_type": "stream",
     "text": [
      "['14', 'ün', 'cü']\n"
     ]
    }
   ],
   "source": [
    "print(get_syllables(\"14'üncü\"))"
   ]
  },
  {
   "cell_type": "code",
   "execution_count": 7,
   "metadata": {},
   "outputs": [],
   "source": [
    "syllables = Counter()\n",
    "for k in words:\n",
    "    syllables.update(get_syllables(k))"
   ]
  },
  {
   "cell_type": "code",
   "execution_count": null,
   "metadata": {},
   "outputs": [],
   "source": []
  }
 ],
 "metadata": {
  "kernelspec": {
   "display_name": "Python 3",
   "language": "python",
   "name": "python3"
  },
  "language_info": {
   "codemirror_mode": {
    "name": "ipython",
    "version": 3
   },
   "file_extension": ".py",
   "mimetype": "text/x-python",
   "name": "python",
   "nbconvert_exporter": "python",
   "pygments_lexer": "ipython3",
   "version": "3.7.3"
  }
 },
 "nbformat": 4,
 "nbformat_minor": 2
}
