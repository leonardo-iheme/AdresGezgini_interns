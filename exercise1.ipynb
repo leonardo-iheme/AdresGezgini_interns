{
 "cells": [
  {
   "cell_type": "markdown",
   "metadata": {},
   "source": [
    "# An Exercise for Python, Pandas Library  \n",
    "**Create a pandas dataframe to store the following for a directory**  \n",
    "**file_name | file_size | date_modified**  "
   ]
  },
  {
   "cell_type": "code",
   "execution_count": 1,
   "metadata": {},
   "outputs": [],
   "source": [
    "import pandas as pd\n",
    "import os, datetime"
   ]
  },
  {
   "cell_type": "code",
   "execution_count": 2,
   "metadata": {},
   "outputs": [],
   "source": [
    "def func(myDir):\n",
    "    dirList = os.listdir(myDir)\n",
    "    list = []\n",
    "    for i in dirList:\n",
    "        filePath = myDir + \"\\\\\" + i\n",
    "        list.append([os.path.basename(filePath), \\\n",
    "                    round(os.path.getsize(filePath)/ 1024**2, 3), \\\n",
    "                    datetime.datetime.fromtimestamp(os.path.getmtime(filePath))])\n",
    "    df = pd.DataFrame(list, columns=('file_Name', 'file_size', 'date_Modified'))\n",
    "    return df"
   ]
  },
  {
   "cell_type": "code",
   "execution_count": 3,
   "metadata": {},
   "outputs": [
    {
     "data": {
      "text/html": [
       "<div>\n",
       "<style scoped>\n",
       "    .dataframe tbody tr th:only-of-type {\n",
       "        vertical-align: middle;\n",
       "    }\n",
       "\n",
       "    .dataframe tbody tr th {\n",
       "        vertical-align: top;\n",
       "    }\n",
       "\n",
       "    .dataframe thead th {\n",
       "        text-align: right;\n",
       "    }\n",
       "</style>\n",
       "<table border=\"1\" class=\"dataframe\">\n",
       "  <thead>\n",
       "    <tr style=\"text-align: right;\">\n",
       "      <th></th>\n",
       "      <th>file_Name</th>\n",
       "      <th>file_size</th>\n",
       "      <th>date_Modified</th>\n",
       "    </tr>\n",
       "  </thead>\n",
       "  <tbody>\n",
       "    <tr>\n",
       "      <th>0</th>\n",
       "      <td>11.jpeg</td>\n",
       "      <td>0.057</td>\n",
       "      <td>2019-04-21 15:11:25.810017</td>\n",
       "    </tr>\n",
       "    <tr>\n",
       "      <th>1</th>\n",
       "      <td>12.jpeg</td>\n",
       "      <td>0.056</td>\n",
       "      <td>2019-04-21 15:11:34.863998</td>\n",
       "    </tr>\n",
       "    <tr>\n",
       "      <th>2</th>\n",
       "      <td>21.jpeg</td>\n",
       "      <td>0.110</td>\n",
       "      <td>2019-04-21 15:13:04.758783</td>\n",
       "    </tr>\n",
       "    <tr>\n",
       "      <th>3</th>\n",
       "      <td>22.jpeg</td>\n",
       "      <td>0.049</td>\n",
       "      <td>2019-04-21 15:11:55.790243</td>\n",
       "    </tr>\n",
       "    <tr>\n",
       "      <th>4</th>\n",
       "      <td>gehu205_week3.ppt</td>\n",
       "      <td>12.307</td>\n",
       "      <td>2018-12-01 21:43:15.040577</td>\n",
       "    </tr>\n",
       "    <tr>\n",
       "      <th>5</th>\n",
       "      <td>gehu205_week4.ppt</td>\n",
       "      <td>5.519</td>\n",
       "      <td>2018-12-01 21:33:32.283525</td>\n",
       "    </tr>\n",
       "    <tr>\n",
       "      <th>6</th>\n",
       "      <td>MyWeeklySchedule.html</td>\n",
       "      <td>0.003</td>\n",
       "      <td>2018-11-19 00:30:08.497170</td>\n",
       "    </tr>\n",
       "    <tr>\n",
       "      <th>7</th>\n",
       "      <td>Yeni klasör</td>\n",
       "      <td>0.000</td>\n",
       "      <td>2019-06-27 16:12:13.014028</td>\n",
       "    </tr>\n",
       "  </tbody>\n",
       "</table>\n",
       "</div>"
      ],
      "text/plain": [
       "               file_Name  file_size              date_Modified\n",
       "0                11.jpeg      0.057 2019-04-21 15:11:25.810017\n",
       "1                12.jpeg      0.056 2019-04-21 15:11:34.863998\n",
       "2                21.jpeg      0.110 2019-04-21 15:13:04.758783\n",
       "3                22.jpeg      0.049 2019-04-21 15:11:55.790243\n",
       "4      gehu205_week3.ppt     12.307 2018-12-01 21:43:15.040577\n",
       "5      gehu205_week4.ppt      5.519 2018-12-01 21:33:32.283525\n",
       "6  MyWeeklySchedule.html      0.003 2018-11-19 00:30:08.497170\n",
       "7            Yeni klasör      0.000 2019-06-27 16:12:13.014028"
      ]
     },
     "execution_count": 3,
     "metadata": {},
     "output_type": "execute_result"
    }
   ],
   "source": [
    "func(\"C:\\\\Users\\\\Lenovo\\\\Desktop\\\\intership\\\\abcd\")"
   ]
  },
  {
   "cell_type": "code",
   "execution_count": null,
   "metadata": {},
   "outputs": [],
   "source": []
  }
 ],
 "metadata": {
  "kernelspec": {
   "display_name": "Python 3",
   "language": "python",
   "name": "python3"
  },
  "language_info": {
   "codemirror_mode": {
    "name": "ipython",
    "version": 3
   },
   "file_extension": ".py",
   "mimetype": "text/x-python",
   "name": "python",
   "nbconvert_exporter": "python",
   "pygments_lexer": "ipython3",
   "version": "3.7.3"
  }
 },
 "nbformat": 4,
 "nbformat_minor": 2
}
